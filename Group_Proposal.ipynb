{
 "cells": [
  {
   "cell_type": "markdown",
   "id": "0168d2c7-c4a4-4eac-ac48-400861f17630",
   "metadata": {},
   "source": [
    "### 1. Title : Diabetes Diagnosis by Classification\n",
    "\n",
    "### 2. Introduction : \n",
    "Diabetes is a chronic ailment affecting millions of individuals in the United States and represents a significant public health concern worldwide. The disease is characterized by elevated blood sugar levels and a markedly lower quality of life. The prevalence of diabetes in the US has been steadily increasing, and approximately 11% of the population suffers from diabetes today. Here, we are using the Diabetes Health Indicators Dataset collected in 2015, containing data collected through the Behavioural Risk Factor Surveillance System, a telephone survey relating to health outcomes. Using this dataset, we aim to investigate if we can accurately predict the presence or absence of diabetes based on these survey response data.\n",
    "\n",
    "### 3. Preliminary exploratory data analysis :\n"
   ]
  },
  {
   "cell_type": "code",
   "execution_count": 11,
   "id": "6c417d57-728f-449c-896e-47e2e46dddb0",
   "metadata": {},
   "outputs": [
    {
     "data": {
      "text/html": [
       "'/opt/anaconda3/envs/myR/lib/R/library'"
      ],
      "text/latex": [
       "'/opt/anaconda3/envs/myR/lib/R/library'"
      ],
      "text/markdown": [
       "'/opt/anaconda3/envs/myR/lib/R/library'"
      ],
      "text/plain": [
       "[1] \"/opt/anaconda3/envs/myR/lib/R/library\""
      ]
     },
     "metadata": {},
     "output_type": "display_data"
    }
   ],
   "source": [
    ".libPaths()"
   ]
  },
  {
   "cell_type": "code",
   "execution_count": 7,
   "id": "af72d528-c942-4e28-a624-6875ce4df093",
   "metadata": {},
   "outputs": [
    {
     "ename": "ERROR",
     "evalue": "Error in getwd(\"/opt/anaconda3/envs/myR/lib/R/library/tidyverse\"): 사용되지 않은 인자 (\"/opt/anaconda3/envs/myR/lib/R/library/tidyverse\")\n",
     "output_type": "error",
     "traceback": [
      "Error in getwd(\"/opt/anaconda3/envs/myR/lib/R/library/tidyverse\"): 사용되지 않은 인자 (\"/opt/anaconda3/envs/myR/lib/R/library/tidyverse\")\nTraceback:\n"
     ]
    }
   ],
   "source": [
    "getwd(\"/opt/anaconda3/envs/myR/lib/R/library/tidyverse\")"
   ]
  },
  {
   "cell_type": "code",
   "execution_count": 10,
   "id": "86e322e2-dc9c-4735-8e04-024bd47269c9",
   "metadata": {},
   "outputs": [],
   "source": [
    ".libPaths('/opt/anaconda3/envs/myR/lib/R/library')"
   ]
  },
  {
   "cell_type": "code",
   "execution_count": 9,
   "id": "0d1624b7-2843-400b-8673-5728aa01eb65",
   "metadata": {},
   "outputs": [
    {
     "name": "stderr",
     "output_type": "stream",
     "text": [
      "Warning message in remove(\"/private/var/folders/1w/94w03vcn7rv_gpwvy1gmzjhw0000gn/T/RtmpWXGoBk/downloaded_packages\"):\n",
      "“객체 '/private/var/folders/1w/94w03vcn7rv_gpwvy1gmzjhw0000gn/T/RtmpWXGoBk/downloaded_packages'를 찾을 수 없습니다”\n"
     ]
    }
   ],
   "source": [
    "remove('/private/var/folders/1w/94w03vcn7rv_gpwvy1gmzjhw0000gn/T/RtmpWXGoBk/downloaded_packages')"
   ]
  },
  {
   "cell_type": "code",
   "execution_count": 12,
   "id": "b4d51590-c354-430c-a944-ab14016e1fd2",
   "metadata": {},
   "outputs": [
    {
     "name": "stderr",
     "output_type": "stream",
     "text": [
      "‘systemfonts’, ‘textshaping’, ‘vroom’, ‘tzdb’, ‘haven’, ‘ragg’, ‘readr’(들)을 또한 설치합니다.\n",
      "\n",
      "\n",
      "Warning message in install.packages(\"tidyverse\"):\n",
      "“패키지 ‘systemfonts’의 설치가 0이 아닌 종료상태를 가졌습니다”\n",
      "Warning message in install.packages(\"tidyverse\"):\n",
      "“패키지 ‘tzdb’의 설치가 0이 아닌 종료상태를 가졌습니다”\n",
      "Warning message in install.packages(\"tidyverse\"):\n",
      "“패키지 ‘textshaping’의 설치가 0이 아닌 종료상태를 가졌습니다”\n",
      "Warning message in install.packages(\"tidyverse\"):\n",
      "“패키지 ‘vroom’의 설치가 0이 아닌 종료상태를 가졌습니다”\n",
      "Warning message in install.packages(\"tidyverse\"):\n",
      "“패키지 ‘ragg’의 설치가 0이 아닌 종료상태를 가졌습니다”\n",
      "Warning message in install.packages(\"tidyverse\"):\n",
      "“패키지 ‘readr’의 설치가 0이 아닌 종료상태를 가졌습니다”\n",
      "Warning message in install.packages(\"tidyverse\"):\n",
      "“패키지 ‘haven’의 설치가 0이 아닌 종료상태를 가졌습니다”\n",
      "Warning message in install.packages(\"tidyverse\"):\n",
      "“패키지 ‘tidyverse’의 설치가 0이 아닌 종료상태를 가졌습니다”\n",
      "'.Library'내 HTML 패키지 목록을 업데이트 하고 있습니다\n",
      "\n",
      "Making 'packages.html' ...\n",
      " 완료\n",
      "\n"
     ]
    },
    {
     "ename": "ERROR",
     "evalue": "Error in library(tidyverse): ‘tidyverse’이라고 불리는 패키지가 없습니다\n",
     "output_type": "error",
     "traceback": [
      "Error in library(tidyverse): ‘tidyverse’이라고 불리는 패키지가 없습니다\nTraceback:\n",
      "1. library(tidyverse)"
     ]
    }
   ],
   "source": [
    "# # Installing Packages\n",
    "install.packages(\"tidyverse\")\n",
    "# install.packages(\"RColorBrewer\")\n",
    "# update.packages(\"tidyverse\")\n",
    "# remove.packages(\"tidyverse\")\n",
    "\n",
    "# Loading in Libraries\n",
    "library(tidyverse)\n",
    "library(RColorBrewer)\n",
    "\n",
    "# Loading in Data\n",
    "url <- 'https://github.com/MatildaBae/dsci-100-2023W1-group45/raw/main/diabetes_binary_5050split_health_indicators_BRFSS2015.csv'\n",
    "diab_data <- read_csv(url)\n",
    "\n",
    "\n",
    "# Inspecting data\n",
    "dim(diab_data)\n",
    "str(diab_data)"
   ]
  },
  {
   "cell_type": "code",
   "execution_count": null,
   "id": "26bb50ac-2bf5-40c2-b383-845551a8dd63",
   "metadata": {},
   "outputs": [],
   "source": [
    "# Formatting column classes appropriately\n",
    "age_levels <- c('[18,24]', \n",
    "                '[25,29]', \n",
    "                '[30,34]', \n",
    "                '[35,39]', \n",
    "                '[40,44]', \n",
    "                '[45,49]', \n",
    "                '[50,54]', \n",
    "                '[55,59]', \n",
    "                '[60,64]', \n",
    "                '[65,69]', \n",
    "                '[70,74]', \n",
    "                '[75,79]', \n",
    "                '[79,∞)')\n",
    "\n",
    "diab_data <- diab_data %>% \n",
    "        mutate(across(everything(), as_factor)) %>%\n",
    "        mutate(Diabetes_binary = fct_recode(Diabetes_binary, 'Case' = '1', 'Control' = '0')) %>%\n",
    "        mutate(Diabetes_binary = factor(Diabetes_binary, levels = c('Case', 'Control'))) %>%\n",
    "        mutate(Sex = fct_recode(Sex, 'Female' = '0', 'Male' = '1')) %>%\n",
    "        mutate(Sex = factor(Sex, levels = c('Male', 'Female'))) %>%\n",
    "        mutate(Age = fct_recode(Age, \n",
    "                                '[18,24]' = '1',\n",
    "                                '[25,29]' = '2',\n",
    "                                '[30,34]' = '3',\n",
    "                                '[35,39]' = '4',\n",
    "                                '[40,44]' = '5',\n",
    "                                '[45,49]' = '6',\n",
    "                                '[50,54]' = '7',\n",
    "                                '[55,59]' = '8',\n",
    "                                '[60,64]' = '9',\n",
    "                                '[65,69]' = '10',\n",
    "                                '[70,74]' = '11',\n",
    "                                '[75,79]' = '12',\n",
    "                                '[79,∞)' = '13')) %>%\n",
    "        mutate(Age = factor(Age, levels = age_levels)) %>%\n",
    "        mutate(BMI = as.numeric(BMI),\n",
    "               MentHlth = as.numeric(MentHlth),\n",
    "               GenHlth = as.numeric(GenHlth))\n",
    "\n",
    "\n",
    "# Making sure that classes are balanced\n",
    "diab_data %>% count(Diabetes_binary)"
   ]
  },
  {
   "cell_type": "code",
   "execution_count": null,
   "id": "73ba767f-903a-4d2a-b297-8bc54ed6cdba",
   "metadata": {},
   "outputs": [],
   "source": [
    "# Exploring BMI data\n",
    "summary_bmi <- diab_data %>% \n",
    "        select(Diabetes_binary, BMI) %>%\n",
    "        group_by(Diabetes_binary) %>%\n",
    "        summarize(mean_BMI = mean(BMI),\n",
    "                  sd_BMI = sd(BMI))\n",
    "summary_bmi\n",
    "\n",
    "mean_bmi_case <- summary_bmi %>% \n",
    "        filter(Diabetes_binary == 'Case') %>% \n",
    "        pull(mean_BMI)\n",
    "mean_bmi_control <- summary_bmi %>% \n",
    "        filter(Diabetes_binary == 'Control') %>% \n",
    "        pull(mean_BMI)\n",
    "\n"
   ]
  },
  {
   "cell_type": "code",
   "execution_count": null,
   "id": "b05562c1-5430-4fb2-8636-f974cd99e85f",
   "metadata": {},
   "outputs": [],
   "source": [
    "# Plotting BMI frequency\n",
    "bmi_plot <- diab_data %>%\n",
    "        ggplot(aes(x = BMI, fill = Diabetes_binary)) +\n",
    "        geom_histogram(bins = 30, \n",
    "                       color = 'white',\n",
    "                       size = 0.5,\n",
    "                       alpha = 0.5,\n",
    "                       position = 'identity') +\n",
    "        geom_vline(xintercept = mean_bmi_case, color = 'darkgreen', linewidth = 1) +\n",
    "        geom_vline(xintercept = mean_bmi_control, color = 'red', linewidth = 1) +\n",
    "        scale_x_continuous(limits = c(0, 60),\n",
    "                           breaks = seq(0, 60, 10)) +\n",
    "        labs(x = 'Body Mass Index (BMI)', \n",
    "             y = 'Count',\n",
    "             fill = '') +\n",
    "        ggtitle('BMI distribution across cases-controls') +\n",
    "        scale_fill_brewer(palette = 'Set2') +\n",
    "        theme_classic() +\n",
    "        theme(text = element_text(size = 12))\n",
    "\n",
    "bmi_plot"
   ]
  },
  {
   "cell_type": "code",
   "execution_count": null,
   "id": "beccf924-9569-439c-819e-6eb4ea3736c5",
   "metadata": {},
   "outputs": [],
   "source": [
    "# General and Mental Health scores\n",
    "diab_data %>% select(Diabetes_binary, GenHlth, MentHlth) %>%\n",
    "        group_by(Diabetes_binary) %>%\n",
    "        summarize(across(GenHlth:MentHlth, mean, .names = 'mean_{.col}'),\n",
    "                  across(GenHlth:MentHlth, sd, .names = 'sd_{.col}'))\n"
   ]
  },
  {
   "cell_type": "code",
   "execution_count": null,
   "id": "2ee6054b-e36e-44ea-a907-658504aa32c6",
   "metadata": {},
   "outputs": [],
   "source": [
    "# Population plot\n",
    "diab_data %>% \n",
    "        count(Diabetes_binary, \n",
    "              Age, \n",
    "              Sex) %>%\n",
    "        mutate(n = ifelse(Sex == 'Male', \n",
    "                          n * -1, \n",
    "                          n)) %>%\n",
    "        ggplot(aes(x = Age, \n",
    "                   y = n, \n",
    "                   fill = Diabetes_binary)) +\n",
    "        geom_bar(stat = 'identity', \n",
    "                 position = 'dodge',\n",
    "                 color = 'white',\n",
    "                 width = 1) +\n",
    "        labs(x = 'Age bracket', \n",
    "             y = 'Count',\n",
    "             fill = '') +\n",
    "        ggtitle('Age and gender distribution across case-controls') +\n",
    "        coord_flip() +\n",
    "        scale_fill_brewer(palette = 'Set2') +\n",
    "        theme_classic() +\n",
    "        scale_y_continuous(labels = abs,\n",
    "                           expand = c(0,0)) +\n",
    "        facet_wrap(~Sex, \n",
    "                   strip.position = 'bottom', \n",
    "                   scale = 'free_x') +\n",
    "        theme(text = element_text(size = 12), \n",
    "              panel.spacing.x = unit(0, 'pt'))\n",
    "\n",
    "diab_data"
   ]
  },
  {
   "cell_type": "code",
   "execution_count": null,
   "id": "0ab27d3f-5fa9-40a2-b808-ee9a007c07a9",
   "metadata": {},
   "outputs": [],
   "source": [
    "# Looking at binary survey data\n",
    "diab_summary <- diab_data %>% \n",
    "        select(-Sex) %>%\n",
    "        group_by(Diabetes_binary) %>% \n",
    "        summarize(across(where(~ is.factor(.x) && length(unique(.x)) == 2), ~ sum(. == \"1\") / n(), .names = '{.col}'))\n",
    "\n",
    "survey_plot <- diab_summary %>%\n",
    "        pivot_longer(!Diabetes_binary) %>%\n",
    "        ggplot(aes(x = name, y = value, fill = Diabetes_binary)) +\n",
    "        geom_bar(stat = 'identity', position = 'dodge', width = 0.7) +\n",
    "        labs(x = '', y = 'Proportion answered \"Yes\"', fill = '') +\n",
    "        ggtitle(\"Survey results across cases-controls\") +\n",
    "        scale_fill_brewer(palette = 'Set2') +\n",
    "        theme_classic() +\n",
    "        theme(axis.text.x = element_text(angle = 45, hjust = 1))\n",
    "\n",
    "survey_plot"
   ]
  },
  {
   "cell_type": "markdown",
   "id": "384953de-62ad-46bc-b18a-095a0ab372d5",
   "metadata": {},
   "source": [
    "### 4. Methods :\n",
    "These data encompass 21 variables, both categorical and numerical. We plan to identify 5 to 10 key variables that possess the highest predictive potential for diabetes, which we will employ to train a robust classifier. We will perform a short literature search, coupled with some basic data exploration techniques plus forward selection, to identify the variables that are most important in determining an individual’s risk for diabetes and overall guide our feature selection process. Once we have selected our features, we will train and test a variety of different predictive models, including K-nearest neighbors, random forests, and/or generalized linear models, to predict disease presence in a withheld test set. We will also use visualization tools such as PCA, PCoA, and/or T-SNE to represent these multidimensional data.\n",
    "\n",
    "### 5. Expected outcomes and significance :\n"
   ]
  },
  {
   "cell_type": "code",
   "execution_count": null,
   "id": "ecf0274f-879d-4751-a4ba-934894767f4a",
   "metadata": {},
   "outputs": [],
   "source": []
  }
 ],
 "metadata": {
  "kernelspec": {
   "display_name": "R",
   "language": "R",
   "name": "ir"
  },
  "language_info": {
   "codemirror_mode": "r",
   "file_extension": ".r",
   "mimetype": "text/x-r-source",
   "name": "R",
   "pygments_lexer": "r",
   "version": "4.3.1"
  }
 },
 "nbformat": 4,
 "nbformat_minor": 5
}
