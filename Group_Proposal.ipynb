{
 "cells": [
  {
   "cell_type": "markdown",
   "id": "0168d2c7-c4a4-4eac-ac48-400861f17630",
   "metadata": {},
   "source": [
    "### 1. Title : Diabetes Diagnosis by Classification\n",
    "\n",
    "### 2. Introduction : \n",
    "Diabetes is a chronic ailment affecting millions of individuals in the United States and represents a significant public health concern worldwide. The disease is characterized by elevated blood sugar levels and major health complications requiring lifelong management. The prevalence of diabetes in the US has been steadily increasing, and approximately 11% of the population suffers from diabetes today. Investigating the prevalence and risk factors for diabetes can help drive efforts to identify individuals and populations at risk and tailor interventions specifically to them.\n",
    "The Diabetes Health Indicators Dataset (2015) contains a valuable trove of data collected through the Behavioural Risk Factor Surveillance System, a telephone survey relating to health outcomes across the US. Our objective is to develop an accurate classification model for diabetes, and to pinpoint the variables in our survey response data with the greatest impact in predicting diabetes.\n",
    "\n",
    "\n",
    "### 3. Preliminary exploratory data analysis :\n"
   ]
  },
  {
   "cell_type": "code",
   "execution_count": 1,
   "id": "b4d51590-c354-430c-a944-ab14016e1fd2",
   "metadata": {},
   "outputs": [
    {
     "name": "stderr",
     "output_type": "stream",
     "text": [
      "── \u001b[1mAttaching core tidyverse packages\u001b[22m ──────────────────────── tidyverse 2.0.0 ──\n",
      "\u001b[32m✔\u001b[39m \u001b[34mdplyr    \u001b[39m 1.1.3     \u001b[32m✔\u001b[39m \u001b[34mreadr    \u001b[39m 2.1.4\n",
      "\u001b[32m✔\u001b[39m \u001b[34mforcats  \u001b[39m 1.0.0     \u001b[32m✔\u001b[39m \u001b[34mstringr  \u001b[39m 1.5.0\n",
      "\u001b[32m✔\u001b[39m \u001b[34mggplot2  \u001b[39m 3.4.3     \u001b[32m✔\u001b[39m \u001b[34mtibble   \u001b[39m 3.2.1\n",
      "\u001b[32m✔\u001b[39m \u001b[34mlubridate\u001b[39m 1.9.2     \u001b[32m✔\u001b[39m \u001b[34mtidyr    \u001b[39m 1.3.0\n",
      "\u001b[32m✔\u001b[39m \u001b[34mpurrr    \u001b[39m 1.0.2     \n",
      "── \u001b[1mConflicts\u001b[22m ────────────────────────────────────────── tidyverse_conflicts() ──\n",
      "\u001b[31m✖\u001b[39m \u001b[34mdplyr\u001b[39m::\u001b[32mfilter()\u001b[39m masks \u001b[34mstats\u001b[39m::filter()\n",
      "\u001b[31m✖\u001b[39m \u001b[34mdplyr\u001b[39m::\u001b[32mlag()\u001b[39m    masks \u001b[34mstats\u001b[39m::lag()\n",
      "\u001b[36mℹ\u001b[39m Use the conflicted package (\u001b[3m\u001b[34m<http://conflicted.r-lib.org/>\u001b[39m\u001b[23m) to force all conflicts to become errors\n"
     ]
    },
    {
     "ename": "ERROR",
     "evalue": "Error in open.connection(structure(4L, class = c(\"curl\", \"connection\"), conn_id = <pointer: 0x1d9>), : HTTP error 404.\n",
     "output_type": "error",
     "traceback": [
      "Error in open.connection(structure(4L, class = c(\"curl\", \"connection\"), conn_id = <pointer: 0x1d9>), : HTTP error 404.\nTraceback:\n",
      "1. read_csv(url)",
      "2. vroom::vroom(file, delim = \",\", col_names = col_names, col_types = col_types, \n .     col_select = {\n .         {\n .             col_select\n .         }\n .     }, id = id, .name_repair = name_repair, skip = skip, n_max = n_max, \n .     na = na, quote = quote, comment = comment, skip_empty_rows = skip_empty_rows, \n .     trim_ws = trim_ws, escape_double = TRUE, escape_backslash = FALSE, \n .     locale = locale, guess_max = guess_max, show_col_types = show_col_types, \n .     progress = progress, altrep = lazy, num_threads = num_threads)",
      "3. vroom_(file, delim = delim %||% col_types$delim, col_names = col_names, \n .     col_types = col_types, id = id, skip = skip, col_select = col_select, \n .     name_repair = .name_repair, na = na, quote = quote, trim_ws = trim_ws, \n .     escape_double = escape_double, escape_backslash = escape_backslash, \n .     comment = comment, skip_empty_rows = skip_empty_rows, locale = locale, \n .     guess_max = guess_max, n_max = n_max, altrep = vroom_altrep(altrep), \n .     num_threads = num_threads, progress = progress)",
      "4. (function (con, ...) \n . UseMethod(\"open\"))(structure(4L, class = c(\"curl\", \"connection\"\n . ), conn_id = <pointer: 0x1d9>), \"rb\")",
      "5. open.connection(structure(4L, class = c(\"curl\", \"connection\"), conn_id = <pointer: 0x1d9>), \n .     \"rb\")"
     ]
    }
   ],
   "source": [
    "# Installing Packages\n",
    "# install.packages(\"tidyverse\")\n",
    "# install.packages(\"RColorBrewer\")\n",
    "\n",
    "# Loading in Libraries\n",
    "library(tidyverse)\n",
    "library(RColorBrewer)\n",
    "\n",
    "# Loading in Data\n",
    "url <- 'https://github.com/MatildaBae/dsci-100-2023W1-group45/raw/main/diabetes_binary_5050split_health_indicators_BRFSS2015.csv'\n",
    "diab_data <- read_csv(url)\n",
    "\n",
    "\n",
    "# Inspecting data\n",
    "dim(diab_data)\n",
    "str(diab_data)"
   ]
  },
  {
   "cell_type": "code",
   "execution_count": 2,
   "id": "26bb50ac-2bf5-40c2-b383-845551a8dd63",
   "metadata": {},
   "outputs": [
    {
     "ename": "ERROR",
     "evalue": "Error in eval(expr, envir, enclos): object 'diab_data' not found\n",
     "output_type": "error",
     "traceback": [
      "Error in eval(expr, envir, enclos): object 'diab_data' not found\nTraceback:\n",
      "1. diab_data %>% mutate(across(everything(), as_factor)) %>% mutate(Diabetes_binary = fct_recode(Diabetes_binary, \n .     Case = \"1\", Control = \"0\")) %>% mutate(Diabetes_binary = factor(Diabetes_binary, \n .     levels = c(\"Case\", \"Control\"))) %>% mutate(Sex = fct_recode(Sex, \n .     Female = \"0\", Male = \"1\")) %>% mutate(Sex = factor(Sex, levels = c(\"Male\", \n .     \"Female\"))) %>% mutate(Age = fct_recode(Age, `[18,24]` = \"1\", \n .     `[25,29]` = \"2\", `[30,34]` = \"3\", `[35,39]` = \"4\", `[40,44]` = \"5\", \n .     `[45,49]` = \"6\", `[50,54]` = \"7\", `[55,59]` = \"8\", `[60,64]` = \"9\", \n .     `[65,69]` = \"10\", `[70,74]` = \"11\", `[75,79]` = \"12\", `[79,∞)` = \"13\")) %>% \n .     mutate(Age = factor(Age, levels = age_levels)) %>% mutate(BMI = as.numeric(BMI), \n .     MentHlth = as.numeric(MentHlth), GenHlth = as.numeric(GenHlth))",
      "2. mutate(., BMI = as.numeric(BMI), MentHlth = as.numeric(MentHlth), \n .     GenHlth = as.numeric(GenHlth))",
      "3. mutate(., Age = factor(Age, levels = age_levels))",
      "4. mutate(., Age = fct_recode(Age, `[18,24]` = \"1\", `[25,29]` = \"2\", \n .     `[30,34]` = \"3\", `[35,39]` = \"4\", `[40,44]` = \"5\", `[45,49]` = \"6\", \n .     `[50,54]` = \"7\", `[55,59]` = \"8\", `[60,64]` = \"9\", `[65,69]` = \"10\", \n .     `[70,74]` = \"11\", `[75,79]` = \"12\", `[79,∞)` = \"13\"))",
      "5. mutate(., Sex = factor(Sex, levels = c(\"Male\", \"Female\")))",
      "6. mutate(., Sex = fct_recode(Sex, Female = \"0\", Male = \"1\"))",
      "7. mutate(., Diabetes_binary = factor(Diabetes_binary, levels = c(\"Case\", \n .     \"Control\")))",
      "8. mutate(., Diabetes_binary = fct_recode(Diabetes_binary, Case = \"1\", \n .     Control = \"0\"))",
      "9. mutate(., across(everything(), as_factor))"
     ]
    }
   ],
   "source": [
    "# Formatting column classes appropriately\n",
    "age_levels <- c('[18,24]', \n",
    "                '[25,29]', \n",
    "                '[30,34]', \n",
    "                '[35,39]', \n",
    "                '[40,44]', \n",
    "                '[45,49]', \n",
    "                '[50,54]', \n",
    "                '[55,59]', \n",
    "                '[60,64]', \n",
    "                '[65,69]', \n",
    "                '[70,74]', \n",
    "                '[75,79]', \n",
    "                '[79,∞)')\n",
    "\n",
    "diab_data <- diab_data %>% \n",
    "        mutate(across(everything(), as_factor)) %>%\n",
    "        mutate(Diabetes_binary = fct_recode(Diabetes_binary, 'Case' = '1', 'Control' = '0')) %>%\n",
    "        mutate(Diabetes_binary = factor(Diabetes_binary, levels = c('Case', 'Control'))) %>%\n",
    "        mutate(Sex = fct_recode(Sex, 'Female' = '0', 'Male' = '1')) %>%\n",
    "        mutate(Sex = factor(Sex, levels = c('Male', 'Female'))) %>%\n",
    "        mutate(Age = fct_recode(Age, \n",
    "                                '[18,24]' = '1',\n",
    "                                '[25,29]' = '2',\n",
    "                                '[30,34]' = '3',\n",
    "                                '[35,39]' = '4',\n",
    "                                '[40,44]' = '5',\n",
    "                                '[45,49]' = '6',\n",
    "                                '[50,54]' = '7',\n",
    "                                '[55,59]' = '8',\n",
    "                                '[60,64]' = '9',\n",
    "                                '[65,69]' = '10',\n",
    "                                '[70,74]' = '11',\n",
    "                                '[75,79]' = '12',\n",
    "                                '[79,∞)' = '13')) %>%\n",
    "        mutate(Age = factor(Age, levels = age_levels)) %>%\n",
    "        mutate(BMI = as.numeric(BMI),\n",
    "               MentHlth = as.numeric(MentHlth),\n",
    "               GenHlth = as.numeric(GenHlth))\n",
    "\n",
    "\n",
    "# Making sure that classes are balanced\n",
    "diab_data %>% count(Diabetes_binary)"
   ]
  },
  {
   "cell_type": "code",
   "execution_count": null,
   "id": "73ba767f-903a-4d2a-b297-8bc54ed6cdba",
   "metadata": {},
   "outputs": [],
   "source": [
    "# Exploring BMI data\n",
    "summary_bmi <- diab_data %>% \n",
    "        select(Diabetes_binary, BMI) %>%\n",
    "        group_by(Diabetes_binary) %>%\n",
    "        summarize(mean_BMI = mean(BMI),\n",
    "                  sd_BMI = sd(BMI))\n",
    "summary_bmi\n",
    "\n",
    "mean_bmi_case <- summary_bmi %>% \n",
    "        filter(Diabetes_binary == 'Case') %>% \n",
    "        pull(mean_BMI)\n",
    "mean_bmi_control <- summary_bmi %>% \n",
    "        filter(Diabetes_binary == 'Control') %>% \n",
    "        pull(mean_BMI)\n",
    "\n"
   ]
  },
  {
   "cell_type": "code",
   "execution_count": null,
   "id": "b05562c1-5430-4fb2-8636-f974cd99e85f",
   "metadata": {},
   "outputs": [],
   "source": [
    "# Plotting BMI frequency\n",
    "bmi_plot <- diab_data %>%\n",
    "        ggplot(aes(x = BMI, fill = Diabetes_binary)) +\n",
    "        geom_histogram(bins = 30, \n",
    "                       color = 'white',\n",
    "                       size = 0.5,\n",
    "                       alpha = 0.5,\n",
    "                       position = 'identity') +\n",
    "        geom_vline(xintercept = mean_bmi_case, color = 'darkgreen', linewidth = 1) +\n",
    "        geom_vline(xintercept = mean_bmi_control, color = 'red', linewidth = 1) +\n",
    "        scale_x_continuous(limits = c(0, 60),\n",
    "                           breaks = seq(0, 60, 10)) +\n",
    "        labs(x = 'Body Mass Index (BMI)', \n",
    "             y = 'Count',\n",
    "             fill = '') +\n",
    "        ggtitle('BMI distribution across cases-controls') +\n",
    "        scale_fill_brewer(palette = 'Set2') +\n",
    "        theme_classic() +\n",
    "        theme(text = element_text(size = 12))\n",
    "\n",
    "bmi_plot"
   ]
  },
  {
   "cell_type": "code",
   "execution_count": null,
   "id": "beccf924-9569-439c-819e-6eb4ea3736c5",
   "metadata": {},
   "outputs": [],
   "source": [
    "# General and Mental Health scores\n",
    "diab_data %>% select(Diabetes_binary, GenHlth, MentHlth) %>%\n",
    "        group_by(Diabetes_binary) %>%\n",
    "        summarize(across(GenHlth:MentHlth, mean, .names = 'mean_{.col}'),\n",
    "                  across(GenHlth:MentHlth, sd, .names = 'sd_{.col}'))\n"
   ]
  },
  {
   "cell_type": "code",
   "execution_count": null,
   "id": "2ee6054b-e36e-44ea-a907-658504aa32c6",
   "metadata": {},
   "outputs": [],
   "source": [
    "# Population plot\n",
    "diab_data %>% \n",
    "        count(Diabetes_binary, \n",
    "              Age, \n",
    "              Sex) %>%\n",
    "        mutate(n = ifelse(Sex == 'Male', \n",
    "                          n * -1, \n",
    "                          n)) %>%\n",
    "        ggplot(aes(x = Age, \n",
    "                   y = n, \n",
    "                   fill = Diabetes_binary)) +\n",
    "        geom_bar(stat = 'identity', \n",
    "                 position = 'dodge',\n",
    "                 color = 'white',\n",
    "                 width = 1) +\n",
    "        labs(x = 'Age bracket', \n",
    "             y = 'Count',\n",
    "             fill = '') +\n",
    "        ggtitle('Age and gender distribution across case-controls') +\n",
    "        coord_flip() +\n",
    "        scale_fill_brewer(palette = 'Set2') +\n",
    "        theme_classic() +\n",
    "        scale_y_continuous(labels = abs,\n",
    "                           expand = c(0,0)) +\n",
    "        facet_wrap(~Sex, \n",
    "                   strip.position = 'bottom', \n",
    "                   scale = 'free_x') +\n",
    "        theme(text = element_text(size = 12), \n",
    "              panel.spacing.x = unit(0, 'pt'))\n",
    "\n",
    "diab_data"
   ]
  },
  {
   "cell_type": "code",
   "execution_count": null,
   "id": "0ab27d3f-5fa9-40a2-b808-ee9a007c07a9",
   "metadata": {},
   "outputs": [],
   "source": [
    "# Looking at binary survey data\n",
    "diab_summary <- diab_data %>% \n",
    "        select(-Sex) %>%\n",
    "        group_by(Diabetes_binary) %>% \n",
    "        summarize(across(where(~ is.factor(.x) && length(unique(.x)) == 2), ~ sum(. == \"1\") / n(), .names = '{.col}'))\n",
    "\n",
    "survey_plot <- diab_summary %>%\n",
    "        pivot_longer(!Diabetes_binary) %>%\n",
    "        ggplot(aes(x = name, y = value, fill = Diabetes_binary)) +\n",
    "        geom_bar(stat = 'identity', position = 'dodge', width = 0.7) +\n",
    "        labs(x = '', y = 'Proportion answered \"Yes\"', fill = '') +\n",
    "        ggtitle(\"Survey results across cases-controls\") +\n",
    "        scale_fill_brewer(palette = 'Set2') +\n",
    "        theme_classic() +\n",
    "        theme(axis.text.x = element_text(angle = 45, hjust = 1))\n",
    "\n",
    "survey_plot"
   ]
  },
  {
   "cell_type": "markdown",
   "id": "384953de-62ad-46bc-b18a-095a0ab372d5",
   "metadata": {},
   "source": [
    "### 4. Methods :\n",
    "These data encompass 21 variables, both categorical and numerical. We plan to identify 5 to 10 key variables that potentially have the highest predictive potential for diabetes, which we will then employ to train a robust classifier. We will perform a short literature search, coupled with some basic data exploration techniques plus forward selection, to identify those variables that are most influential when determining an individual’s risk for diabetes and guide our overall feature selection process.\n",
    "We plan to employ a cross-validation approach to train a variety of different predictive models, including random forests, and/or generalized linear models, to predict disease presence. We will investigate the relative contributions of our predictors in the predictive performance of our models through variable importance analysis. We will also use visualization tools such as PCA, PCoA, and/or T-SNE to represent these multidimensional data in attractive, informative plots.\n",
    "\n",
    "### 5. Expected outcomes and significance :\n"
   ]
  },
  {
   "cell_type": "code",
   "execution_count": null,
   "id": "ecf0274f-879d-4751-a4ba-934894767f4a",
   "metadata": {},
   "outputs": [],
   "source": []
  }
 ],
 "metadata": {
  "kernelspec": {
   "display_name": "R",
   "language": "R",
   "name": "ir"
  },
  "language_info": {
   "codemirror_mode": "r",
   "file_extension": ".r",
   "mimetype": "text/x-r-source",
   "name": "R",
   "pygments_lexer": "r",
   "version": "4.3.1"
  }
 },
 "nbformat": 4,
 "nbformat_minor": 5
}
